{
  "nbformat": 4,
  "nbformat_minor": 0,
  "metadata": {
    "colab": {
      "provenance": [],
      "authorship_tag": "ABX9TyPudZLnFRQ3adn3ry2XkBfX",
      "include_colab_link": true
    },
    "kernelspec": {
      "name": "python3",
      "display_name": "Python 3"
    },
    "language_info": {
      "name": "python"
    }
  },
  "cells": [
    {
      "cell_type": "markdown",
      "metadata": {
        "id": "view-in-github",
        "colab_type": "text"
      },
      "source": [
        "<a href=\"https://colab.research.google.com/github/Anmolkr1909/comparison_operator/blob/main/comparison_operator.ipynb\" target=\"_parent\"><img src=\"https://colab.research.google.com/assets/colab-badge.svg\" alt=\"Open In Colab\"/></a>"
      ]
    },
    {
      "cell_type": "markdown",
      "source": [
        "# Comparison Operator"
      ],
      "metadata": {
        "id": "hu-sUH5rHVDl"
      }
    },
    {
      "cell_type": "markdown",
      "source": [
        "\n",
        "\n",
        "---\n",
        "\n"
      ],
      "metadata": {
        "id": "xAWpdL5NHmu3"
      }
    },
    {
      "cell_type": "markdown",
      "source": [
        "16) Check if login is successful\n",
        "\n",
        "\n",
        "*   using ( == )\n",
        "\n"
      ],
      "metadata": {
        "id": "EcL14dlkHreq"
      }
    },
    {
      "cell_type": "code",
      "source": [
        "#stored username\n",
        "correct_username = \"anmol123\"\n",
        "\n",
        "#input from user\n",
        "entered_username = \"anmol123\"\n",
        "\n",
        "#check if both match\n",
        "if entered_username == correct_username:\n",
        "  print(\"login successful\")\n",
        "else:\n",
        "  print(\"login failed\")"
      ],
      "metadata": {
        "colab": {
          "base_uri": "https://localhost:8080/"
        },
        "id": "LgjjFljsIukT",
        "outputId": "0e596d62-ef87-49e1-bfe7-aa8ed5135734"
      },
      "execution_count": null,
      "outputs": [
        {
          "output_type": "stream",
          "name": "stdout",
          "text": [
            "login successful\n"
          ]
        }
      ]
    },
    {
      "cell_type": "markdown",
      "source": [
        "\n",
        "\n",
        "---\n",
        "\n"
      ],
      "metadata": {
        "id": "IvrxXyCgLaW3"
      }
    },
    {
      "cell_type": "markdown",
      "source": [
        "17) Check if user blocked\n",
        "\n",
        "*   using ( != )\n",
        "\n"
      ],
      "metadata": {
        "id": "-sANpilTLgwE"
      }
    },
    {
      "cell_type": "code",
      "source": [
        "blocked_user = \"anmol123\"\n",
        "\n",
        "entered_username = \"anmol123\"\n",
        "\n",
        "if entered_username != blocked_user:\n",
        "  print(\"user is not blocked\")\n",
        "else:\n",
        "  print(\"user is blocked\")"
      ],
      "metadata": {
        "colab": {
          "base_uri": "https://localhost:8080/"
        },
        "id": "tMo3hL06MCfz",
        "outputId": "376d7e17-d455-4cc5-b80e-2569ed56bf0d"
      },
      "execution_count": null,
      "outputs": [
        {
          "output_type": "stream",
          "name": "stdout",
          "text": [
            "user is blocked\n"
          ]
        }
      ]
    },
    {
      "cell_type": "markdown",
      "source": [
        "\n",
        "\n",
        "---\n",
        "\n"
      ],
      "metadata": {
        "id": "zw7sevxyP5wa"
      }
    },
    {
      "cell_type": "markdown",
      "source": [
        "18) Check if age is greater than 18\n",
        "\n",
        "*   using ( > )\n",
        "\n",
        "\n"
      ],
      "metadata": {
        "id": "p6FhywJdMOt1"
      }
    },
    {
      "cell_type": "code",
      "source": [
        "age = 21\n",
        "\n",
        "if age > 18:\n",
        "  print(\"you are eligible to vote\")\n",
        "else:\n",
        "  print(\"you are not eligible to vote\")"
      ],
      "metadata": {
        "colab": {
          "base_uri": "https://localhost:8080/"
        },
        "id": "Dob2xAb5MitP",
        "outputId": "e55c8e9f-18ef-4328-e8fe-33628d2c19fa"
      },
      "execution_count": null,
      "outputs": [
        {
          "output_type": "stream",
          "name": "stdout",
          "text": [
            "you are eligible to vote\n"
          ]
        }
      ]
    },
    {
      "cell_type": "markdown",
      "source": [
        "\n",
        "\n",
        "---\n",
        "\n"
      ],
      "metadata": {
        "id": "L4FM9EBMP8BM"
      }
    },
    {
      "cell_type": "markdown",
      "source": [
        "19) Check if Temprature is less than same limit\n",
        "\n",
        "\n",
        "*   using ( < )\n",
        "\n"
      ],
      "metadata": {
        "id": "rtSAeC5DM9n5"
      }
    },
    {
      "cell_type": "code",
      "source": [
        "temperature = 35\n",
        "\n",
        "if temperature < 40:\n",
        "  print(\"temperature is normal\")\n",
        "else:\n",
        "  print(\"temperature is high\")"
      ],
      "metadata": {
        "colab": {
          "base_uri": "https://localhost:8080/"
        },
        "id": "KikMo4CyMwvS",
        "outputId": "589e78b2-4da7-4b87-8722-b48614d56294"
      },
      "execution_count": null,
      "outputs": [
        {
          "output_type": "stream",
          "name": "stdout",
          "text": [
            "temperature is normal\n"
          ]
        }
      ]
    },
    {
      "cell_type": "markdown",
      "source": [
        "\n",
        "\n",
        "---\n",
        "\n"
      ],
      "metadata": {
        "id": "THtYRqyoP9G2"
      }
    },
    {
      "cell_type": "markdown",
      "source": [
        "20) Student grading\n",
        "\n",
        "*  using ( >=\n",
        ")\n"
      ],
      "metadata": {
        "id": "pYItnBNjNr7j"
      }
    },
    {
      "cell_type": "code",
      "source": [
        "score = 85\n",
        "\n",
        "if score >= 90:\n",
        "  print(\"Grade: A\")\n",
        "elif score >= 80:\n",
        "  print(\"Grade: B\")\n",
        "elif score >= 70:\n",
        "  print(\"Grade: C\")\n",
        "elif score >= 60:\n",
        "  print(\"Grade: D\")\n",
        "else:\n",
        "  print(\"Grade: F\")"
      ],
      "metadata": {
        "colab": {
          "base_uri": "https://localhost:8080/"
        },
        "id": "mll_-jr6OSgm",
        "outputId": "171a1d8c-9f7e-48d3-bd87-e6b0a46b480a"
      },
      "execution_count": null,
      "outputs": [
        {
          "output_type": "stream",
          "name": "stdout",
          "text": [
            "Grade: B\n"
          ]
        }
      ]
    },
    {
      "cell_type": "markdown",
      "source": [
        "\n",
        "\n",
        "---\n",
        "\n"
      ],
      "metadata": {
        "id": "Jk3s_jZrP94C"
      }
    },
    {
      "cell_type": "markdown",
      "source": [
        "21) Discount Eligibilty\n",
        "\n",
        "\n",
        "*  using ( <= )\n",
        "\n",
        "\n"
      ],
      "metadata": {
        "id": "pOEloGQ1OdQI"
      }
    },
    {
      "cell_type": "code",
      "source": [
        "bill_amount = 150\n",
        "\n",
        "if bill_amount <= 100:\n",
        "  print(\"you are eligible for discount\")\n",
        "else:\n",
        "  print(\"you are not eligible for discount\")"
      ],
      "metadata": {
        "colab": {
          "base_uri": "https://localhost:8080/"
        },
        "id": "3ck-bOq0PP-J",
        "outputId": "a78114ea-37af-4dc8-e613-206d7be3b2a0"
      },
      "execution_count": null,
      "outputs": [
        {
          "output_type": "stream",
          "name": "stdout",
          "text": [
            "you are not eligible for discount\n"
          ]
        }
      ]
    },
    {
      "cell_type": "markdown",
      "source": [
        "\n",
        "\n",
        "---\n",
        "\n"
      ],
      "metadata": {
        "id": "pKJwHDhZP_Lo"
      }
    }
  ]
}